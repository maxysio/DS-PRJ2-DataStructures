{
  "nbformat": 4,
  "nbformat_minor": 0,
  "metadata": {
    "colab": {
      "name": "03-HuffmanCoding.ipynb",
      "provenance": [],
      "include_colab_link": true
    },
    "kernelspec": {
      "name": "python3",
      "display_name": "Python 3"
    }
  },
  "cells": [
    {
      "cell_type": "markdown",
      "metadata": {
        "id": "view-in-github",
        "colab_type": "text"
      },
      "source": [
        "<a href=\"https://colab.research.google.com/github/maxysio/DS-PRJ2-DataStructures/blob/master/03-HuffmanCoding.ipynb\" target=\"_parent\"><img src=\"https://colab.research.google.com/assets/colab-badge.svg\" alt=\"Open In Colab\"/></a>"
      ]
    },
    {
      "cell_type": "code",
      "metadata": {
        "id": "4Y_SmwCDnBqy",
        "colab_type": "code",
        "colab": {}
      },
      "source": [
        "import heapq\n",
        "import collections"
      ],
      "execution_count": 0,
      "outputs": []
    },
    {
      "cell_type": "code",
      "metadata": {
        "id": "x0x497vo28y3",
        "colab_type": "code",
        "colab": {}
      },
      "source": [
        "list_1 = []"
      ],
      "execution_count": 0,
      "outputs": []
    },
    {
      "cell_type": "code",
      "metadata": {
        "id": "AT64zYgtm-K6",
        "colab_type": "code",
        "colab": {}
      },
      "source": [
        "heapq.heappush(list_1, -1)"
      ],
      "execution_count": 0,
      "outputs": []
    },
    {
      "cell_type": "code",
      "metadata": {
        "id": "QP2rvJwynK_J",
        "colab_type": "code",
        "outputId": "cc811bc7-358a-40e9-feba-1dda4ed02891",
        "colab": {
          "base_uri": "https://localhost:8080/",
          "height": 34
        }
      },
      "source": [
        "list_1"
      ],
      "execution_count": 0,
      "outputs": [
        {
          "output_type": "execute_result",
          "data": {
            "text/plain": [
              "[3, 40]"
            ]
          },
          "metadata": {
            "tags": []
          },
          "execution_count": 17
        }
      ]
    },
    {
      "cell_type": "code",
      "metadata": {
        "id": "Joxi7KcEnMVn",
        "colab_type": "code",
        "outputId": "4766e2c6-bcdd-4e4f-f80b-be1ea9e1aeaa",
        "colab": {
          "base_uri": "https://localhost:8080/",
          "height": 34
        }
      },
      "source": [
        "heapq.heappop(list_1)"
      ],
      "execution_count": 0,
      "outputs": [
        {
          "output_type": "execute_result",
          "data": {
            "text/plain": [
              "2"
            ]
          },
          "metadata": {
            "tags": []
          },
          "execution_count": 16
        }
      ]
    },
    {
      "cell_type": "code",
      "metadata": {
        "id": "s-1nKUuSqPMh",
        "colab_type": "code",
        "colab": {}
      },
      "source": [
        "str1 = 'aaaabbbccc'\n",
        "rr = collections.Counter(str1)"
      ],
      "execution_count": 0,
      "outputs": []
    },
    {
      "cell_type": "code",
      "metadata": {
        "id": "NNEL23KZqYk5",
        "colab_type": "code",
        "outputId": "daefa6aa-f4b4-4697-8e7d-4390491b1ca6",
        "colab": {
          "base_uri": "https://localhost:8080/",
          "height": 34
        }
      },
      "source": [
        "rr"
      ],
      "execution_count": 0,
      "outputs": [
        {
          "output_type": "execute_result",
          "data": {
            "text/plain": [
              "Counter({'a': 4, 'b': 3, 'c': 3})"
            ]
          },
          "metadata": {
            "tags": []
          },
          "execution_count": 21
        }
      ]
    },
    {
      "cell_type": "code",
      "metadata": {
        "id": "LF1gTv1_nZmH",
        "colab_type": "code",
        "colab": {}
      },
      "source": [
        "# HeapNode class\n",
        "class HeapNode:\n",
        "  def __init__(self, char, frequency):\n",
        "    self.char = char\n",
        "    self.frequency = frequency\n",
        "    self.left_node = None\n",
        "    self.right_node = None\n",
        "\n",
        "  def __lt__(self, node):\n",
        "    return self.frequency < node.frequency\n",
        "\n",
        "  def __eq__(self, node):\n",
        "    if node is None:\n",
        "      return False\n",
        "    \n",
        "    if not isinstance(node, HeapNode):\n",
        "      return False\n",
        "\n",
        "    return self.frequency == node.frequency"
      ],
      "execution_count": 0,
      "outputs": []
    },
    {
      "cell_type": "code",
      "metadata": {
        "id": "7raHK6k4o8oA",
        "colab_type": "code",
        "colab": {}
      },
      "source": [
        "# Huffman Coding\n",
        "class HuffmanCoding:\n",
        "  def __init__(self):\n",
        "    self.heap = []\n",
        "    self.char_codes = {}\n",
        "\n",
        "  def huffman_encoding(self, data):\n",
        "    # Find the frequency of the characters\n",
        "    freq = collections.Counter(data)\n",
        "\n",
        "    # Create a heap queue using heapq\n",
        "    for key in freq:\n",
        "      node = HeapNode(key, freq[key])\n",
        "      heapq.heappush(self.heap, node)\n",
        "\n",
        "    # Merge the nodes - at the end there will be 1 root node. Frequency should be the total number of chars.\n",
        "    while(len(self.heap)>1):\n",
        "      node1 = heapq.heappop(self.heap)\n",
        "      node2 = heapq.heappop(self.heap)\n",
        "      merged_node = HeapNode(None, node1.frequency + node2.frequency)\n",
        "      merged_node.left_node = node1\n",
        "      merged_node.right_node = node2\n",
        "      heapq.heappush(self.heap, merged_node)\n",
        "    \n",
        "    # Assign the codes\n",
        "    # Get the root of the heap, set current code to empty string\n",
        "    # Call the recursive function to iterate through the tree to set the code\n",
        "    heap_root = heapq.heappop(self.heap)\n",
        "    current_code = ''\n",
        "    self.set_code(heap_root, current_code)\n",
        "\n",
        "    # Encode the text\n",
        "\n",
        "\n",
        "    return self.heap\n",
        "\n",
        "  def set_code(self, node, current_code):\n",
        "    if node is None:\n",
        "      return\n",
        "    \n",
        "    if node.char is not None:\n",
        "      # if this is a node with a character, assign the code\n",
        "      self.char_codes[node.char] = current_code\n",
        "      return\n",
        "\n",
        "    # Assign the left branch as 0 and right branch a 1\n",
        "    self.set_code(node.left_node, current_code + '0')\n",
        "    self.set_code(node.right_node, current_code + '1')\n"
      ],
      "execution_count": 0,
      "outputs": []
    },
    {
      "cell_type": "code",
      "metadata": {
        "id": "BAgC_oU9rSVF",
        "colab_type": "code",
        "colab": {}
      },
      "source": [
        "hc = HuffmanCoding()\n",
        "aa = hc.huffman_encoding('aaabbcccc')"
      ],
      "execution_count": 0,
      "outputs": []
    },
    {
      "cell_type": "code",
      "metadata": {
        "id": "llRV8ssRFAMM",
        "colab_type": "code",
        "colab": {
          "base_uri": "https://localhost:8080/",
          "height": 34
        },
        "outputId": "ffd954e4-1a0f-42ae-ea5c-873fa3dce152"
      },
      "source": [
        "hc.char_codes"
      ],
      "execution_count": 83,
      "outputs": [
        {
          "output_type": "execute_result",
          "data": {
            "text/plain": [
              "{'a': '11', 'b': '10', 'c': '0'}"
            ]
          },
          "metadata": {
            "tags": []
          },
          "execution_count": 83
        }
      ]
    },
    {
      "cell_type": "code",
      "metadata": {
        "id": "so5CLtwHCFxL",
        "colab_type": "code",
        "colab": {}
      },
      "source": [
        "nn = heapq.heappop(aa)"
      ],
      "execution_count": 0,
      "outputs": []
    },
    {
      "cell_type": "code",
      "metadata": {
        "id": "JxwYonANCQaR",
        "colab_type": "code",
        "colab": {
          "base_uri": "https://localhost:8080/",
          "height": 34
        },
        "outputId": "d7ebd14d-7d2b-443d-9b24-c2e71ea59b1d"
      },
      "source": [
        "nn.frequency, nn.char"
      ],
      "execution_count": 76,
      "outputs": [
        {
          "output_type": "execute_result",
          "data": {
            "text/plain": [
              "(9, None)"
            ]
          },
          "metadata": {
            "tags": []
          },
          "execution_count": 76
        }
      ]
    },
    {
      "cell_type": "code",
      "metadata": {
        "id": "SLoS_L6VCbKt",
        "colab_type": "code",
        "colab": {
          "base_uri": "https://localhost:8080/",
          "height": 34
        },
        "outputId": "f469aab3-ad85-43db-96a6-07eb2811121a"
      },
      "source": [
        "len(aa)"
      ],
      "execution_count": 80,
      "outputs": [
        {
          "output_type": "execute_result",
          "data": {
            "text/plain": [
              "1"
            ]
          },
          "metadata": {
            "tags": []
          },
          "execution_count": 80
        }
      ]
    },
    {
      "cell_type": "code",
      "metadata": {
        "id": "E3bt0VewChll",
        "colab_type": "code",
        "colab": {
          "base_uri": "https://localhost:8080/",
          "height": 34
        },
        "outputId": "f537fd20-9076-4123-cd5b-d7d0259bbe8a"
      },
      "source": [
        "aa"
      ],
      "execution_count": 78,
      "outputs": [
        {
          "output_type": "execute_result",
          "data": {
            "text/plain": [
              "[]"
            ]
          },
          "metadata": {
            "tags": []
          },
          "execution_count": 78
        }
      ]
    },
    {
      "cell_type": "code",
      "metadata": {
        "id": "4Aml4C5YClia",
        "colab_type": "code",
        "colab": {}
      },
      "source": [
        ""
      ],
      "execution_count": 0,
      "outputs": []
    }
  ]
}