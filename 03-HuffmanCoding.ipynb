{
  "nbformat": 4,
  "nbformat_minor": 0,
  "metadata": {
    "colab": {
      "name": "03-HuffmanCoding.ipynb",
      "provenance": [],
      "include_colab_link": true
    },
    "kernelspec": {
      "name": "python3",
      "display_name": "Python 3"
    }
  },
  "cells": [
    {
      "cell_type": "markdown",
      "metadata": {
        "id": "view-in-github",
        "colab_type": "text"
      },
      "source": [
        "<a href=\"https://colab.research.google.com/github/maxysio/DS-PRJ2-DataStructures/blob/master/03-HuffmanCoding.ipynb\" target=\"_parent\"><img src=\"https://colab.research.google.com/assets/colab-badge.svg\" alt=\"Open In Colab\"/></a>"
      ]
    },
    {
      "cell_type": "code",
      "metadata": {
        "id": "4Y_SmwCDnBqy",
        "colab_type": "code",
        "colab": {}
      },
      "source": [
        "import heapq\n",
        "import collections\n",
        "import sys"
      ],
      "execution_count": 0,
      "outputs": []
    },
    {
      "cell_type": "code",
      "metadata": {
        "id": "LF1gTv1_nZmH",
        "colab_type": "code",
        "colab": {}
      },
      "source": [
        "# HeapNode class\n",
        "class HeapNode:\n",
        "  def __init__(self, char, frequency):\n",
        "    self.char = char\n",
        "    self.frequency = frequency\n",
        "    self.left_node = None\n",
        "    self.right_node = None\n",
        "\n",
        "  # Overriding method less than and equal to accomodate heapq push\n",
        "  def __lt__(self, node):\n",
        "    return self.frequency < node.frequency\n",
        "\n",
        "  def __eq__(self, node):\n",
        "    if node is None:\n",
        "      return False\n",
        "    \n",
        "    if not isinstance(node, HeapNode):\n",
        "      return False\n",
        "\n",
        "    return self.frequency == node.frequency"
      ],
      "execution_count": 0,
      "outputs": []
    },
    {
      "cell_type": "code",
      "metadata": {
        "id": "7raHK6k4o8oA",
        "colab_type": "code",
        "colab": {}
      },
      "source": [
        "# Huffman Coding Class\n",
        "class HuffmanCoding:\n",
        "  def __init__(self):\n",
        "    self.tree = []\n",
        "    self.char_codes = {}\n",
        "    self.reverse_mapping = {}\n",
        "\n",
        "  def huffman_encoding(self, data):\n",
        "    # Find the frequency of the characters\n",
        "    freq = collections.Counter(data)\n",
        "\n",
        "    # Create a heap queue using heapq\n",
        "    for key in freq:\n",
        "      node = HeapNode(key, freq[key])\n",
        "      heapq.heappush(self.tree, node)\n",
        "\n",
        "    # Merge the nodes - at the end there will be 1 root node. Frequency of root node should be the total number of chars.\n",
        "    while(len(self.tree)>1):\n",
        "      node1 = heapq.heappop(self.tree)\n",
        "      node2 = heapq.heappop(self.tree)\n",
        "      merged_node = HeapNode(None, node1.frequency + node2.frequency)\n",
        "      merged_node.left_node = node1\n",
        "      merged_node.right_node = node2\n",
        "      heapq.heappush(self.tree, merged_node)\n",
        "    \n",
        "    # Assign the codes\n",
        "    # Get the root of the heap\n",
        "    # Call the recursive function to iterate through the tree to set the code\n",
        "    heap_root = self.tree[0]\n",
        "    current_code = ''\n",
        "    self.set_codes(heap_root, current_code)\n",
        "\n",
        "    # Encode the text\n",
        "    encoded_text = ''\n",
        "    for c in data:\n",
        "      encoded_text += self.char_codes[c]\n",
        "\n",
        "    # Return the encoded text\n",
        "    return encoded_text\n",
        "\n",
        "  def huffman_decoding(self, encoded_text):\n",
        "    decoded_text = ''\n",
        "    current_code = ''\n",
        "    for c in encoded_text:\n",
        "      # Create the key for the reverse mapping\n",
        "      current_code += c\n",
        "      if current_code in self.reverse_mapping:\n",
        "        # Get the character from the reverse mapping list\n",
        "        decoded_text += self.reverse_mapping[current_code]\n",
        "        current_code = ''\n",
        "\n",
        "    return decoded_text\n",
        "\n",
        "  def set_codes(self, node, current_code):\n",
        "    if node is None:\n",
        "      return\n",
        "    \n",
        "    if node.char is not None:\n",
        "      # if this is a node with a character, assign the code\n",
        "      self.char_codes[node.char] = current_code\n",
        "      # Also store the char mapping in reverse for decoding\n",
        "      self.reverse_mapping[current_code] = node.char\n",
        "      return\n",
        "\n",
        "    # Assign the left branch as 0 and right branch a 1\n",
        "    self.set_codes(node.left_node, current_code + '0')\n",
        "    self.set_codes(node.right_node, current_code + '1')\n"
      ],
      "execution_count": 0,
      "outputs": []
    },
    {
      "cell_type": "code",
      "metadata": {
        "id": "Sc64jflKIqvw",
        "colab_type": "code",
        "colab": {
          "base_uri": "https://localhost:8080/",
          "height": 221
        },
        "outputId": "2a7ed901-583c-4e5e-e0a8-402aadad9d22"
      },
      "source": [
        "if __name__ == \"__main__\":\n",
        "    codes = {}\n",
        "\n",
        "    a_great_sentence = \"The bird is the word\"\n",
        "\n",
        "    print (\"The size of the data is: {}\\n\".format(sys.getsizeof(a_great_sentence)))\n",
        "    print (\"The content of the data is: {}\\n\".format(a_great_sentence))\n",
        "\n",
        "    hc = HuffmanCoding()\n",
        "\n",
        "    encoded_data = hc.huffman_encoding(a_great_sentence)\n",
        "\n",
        "    print (\"The size of the encoded data is: {}\\n\".format(sys.getsizeof(int(encoded_data, base=2))))\n",
        "    print (\"The content of the encoded data is: {}\\n\".format(encoded_data))\n",
        "\n",
        "    decoded_data = hc.huffman_decoding(encoded_data)\n",
        "\n",
        "    print (\"The size of the decoded data is: {}\\n\".format(sys.getsizeof(decoded_data)))\n",
        "    print (\"The content of the encoded data is: {}\\n\".format(decoded_data))"
      ],
      "execution_count": 52,
      "outputs": [
        {
          "output_type": "stream",
          "text": [
            "The size of the data is: 69\n",
            "\n",
            "The content of the data is: The bird is the word\n",
            "\n",
            "The size of the encoded data is: 36\n",
            "\n",
            "The content of the encoded data is: 1000111111100100001101110000101110110110100011111111001101010011100001\n",
            "\n",
            "The size of the decoded data is: 69\n",
            "\n",
            "The content of the encoded data is: The bird is the word\n",
            "\n"
          ],
          "name": "stdout"
        }
      ]
    }
  ]
}