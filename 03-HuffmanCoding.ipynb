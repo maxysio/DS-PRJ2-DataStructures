{
  "nbformat": 4,
  "nbformat_minor": 0,
  "metadata": {
    "colab": {
      "name": "03-HuffmanCoding.ipynb",
      "provenance": [],
      "include_colab_link": true
    },
    "kernelspec": {
      "name": "python3",
      "display_name": "Python 3"
    }
  },
  "cells": [
    {
      "cell_type": "markdown",
      "metadata": {
        "id": "view-in-github",
        "colab_type": "text"
      },
      "source": [
        "<a href=\"https://colab.research.google.com/github/maxysio/DS-PRJ2-DataStructures/blob/master/03-HuffmanCoding.ipynb\" target=\"_parent\"><img src=\"https://colab.research.google.com/assets/colab-badge.svg\" alt=\"Open In Colab\"/></a>"
      ]
    },
    {
      "cell_type": "code",
      "metadata": {
        "id": "4Y_SmwCDnBqy",
        "colab_type": "code",
        "colab": {}
      },
      "source": [
        "import heapq"
      ],
      "execution_count": 0,
      "outputs": []
    },
    {
      "cell_type": "code",
      "metadata": {
        "id": "x0x497vo28y3",
        "colab_type": "code",
        "colab": {}
      },
      "source": [
        "list_1 = []"
      ],
      "execution_count": 0,
      "outputs": []
    },
    {
      "cell_type": "code",
      "metadata": {
        "id": "AT64zYgtm-K6",
        "colab_type": "code",
        "colab": {}
      },
      "source": [
        "heapq.heappush(list_1, -1)"
      ],
      "execution_count": 0,
      "outputs": []
    },
    {
      "cell_type": "code",
      "metadata": {
        "id": "QP2rvJwynK_J",
        "colab_type": "code",
        "colab": {
          "base_uri": "https://localhost:8080/",
          "height": 34
        },
        "outputId": "cc811bc7-358a-40e9-feba-1dda4ed02891"
      },
      "source": [
        "list_1"
      ],
      "execution_count": 17,
      "outputs": [
        {
          "output_type": "execute_result",
          "data": {
            "text/plain": [
              "[3, 40]"
            ]
          },
          "metadata": {
            "tags": []
          },
          "execution_count": 17
        }
      ]
    },
    {
      "cell_type": "code",
      "metadata": {
        "id": "Joxi7KcEnMVn",
        "colab_type": "code",
        "colab": {
          "base_uri": "https://localhost:8080/",
          "height": 34
        },
        "outputId": "4766e2c6-bcdd-4e4f-f80b-be1ea9e1aeaa"
      },
      "source": [
        "heapq.heappop(list_1)"
      ],
      "execution_count": 16,
      "outputs": [
        {
          "output_type": "execute_result",
          "data": {
            "text/plain": [
              "2"
            ]
          },
          "metadata": {
            "tags": []
          },
          "execution_count": 16
        }
      ]
    },
    {
      "cell_type": "code",
      "metadata": {
        "id": "LF1gTv1_nZmH",
        "colab_type": "code",
        "colab": {}
      },
      "source": [
        "# HeapNode class\n",
        "class HeapNode:\n",
        "  def __init__(self, char, frequency):\n",
        "    self.char = char\n",
        "    self.frequency = frequency\n",
        "    self.left_node = None\n",
        "    self.right_node = None"
      ],
      "execution_count": 0,
      "outputs": []
    },
    {
      "cell_type": "code",
      "metadata": {
        "id": "7raHK6k4o8oA",
        "colab_type": "code",
        "colab": {}
      },
      "source": [
        "# Huffman Coding\n",
        "class HuffmanCoding:\n",
        "  def __init__(self):\n",
        "    self.heap = []\n",
        "\n",
        "  def huffman_encoding(data):\n",
        "    # Find the frequency of the characters\n",
        "    # Create a heap queue\n",
        "    # Merge the nodes\n",
        "    # Assign the codes\n",
        "    # Encode the text\n",
        "    pass"
      ],
      "execution_count": 0,
      "outputs": []
    }
  ]
}