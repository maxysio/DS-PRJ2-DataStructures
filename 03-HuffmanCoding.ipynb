{
  "nbformat": 4,
  "nbformat_minor": 0,
  "metadata": {
    "colab": {
      "name": "03-HuffmanCoding.ipynb",
      "provenance": [],
      "include_colab_link": true
    },
    "kernelspec": {
      "name": "python3",
      "display_name": "Python 3"
    }
  },
  "cells": [
    {
      "cell_type": "markdown",
      "metadata": {
        "id": "view-in-github",
        "colab_type": "text"
      },
      "source": [
        "<a href=\"https://colab.research.google.com/github/maxysio/DS-PRJ2-DataStructures/blob/master/03-HuffmanCoding.ipynb\" target=\"_parent\"><img src=\"https://colab.research.google.com/assets/colab-badge.svg\" alt=\"Open In Colab\"/></a>"
      ]
    },
    {
      "cell_type": "code",
      "metadata": {
        "id": "4Y_SmwCDnBqy",
        "colab_type": "code",
        "colab": {}
      },
      "source": [
        "import heapq\n",
        "import collections"
      ],
      "execution_count": 0,
      "outputs": []
    },
    {
      "cell_type": "code",
      "metadata": {
        "id": "x0x497vo28y3",
        "colab_type": "code",
        "colab": {}
      },
      "source": [
        "list_1 = []"
      ],
      "execution_count": 0,
      "outputs": []
    },
    {
      "cell_type": "code",
      "metadata": {
        "id": "AT64zYgtm-K6",
        "colab_type": "code",
        "colab": {}
      },
      "source": [
        "heapq.heappush(list_1, -1)"
      ],
      "execution_count": 0,
      "outputs": []
    },
    {
      "cell_type": "code",
      "metadata": {
        "id": "QP2rvJwynK_J",
        "colab_type": "code",
        "outputId": "cc811bc7-358a-40e9-feba-1dda4ed02891",
        "colab": {
          "base_uri": "https://localhost:8080/",
          "height": 34
        }
      },
      "source": [
        "list_1"
      ],
      "execution_count": 0,
      "outputs": [
        {
          "output_type": "execute_result",
          "data": {
            "text/plain": [
              "[3, 40]"
            ]
          },
          "metadata": {
            "tags": []
          },
          "execution_count": 17
        }
      ]
    },
    {
      "cell_type": "code",
      "metadata": {
        "id": "Joxi7KcEnMVn",
        "colab_type": "code",
        "outputId": "4766e2c6-bcdd-4e4f-f80b-be1ea9e1aeaa",
        "colab": {
          "base_uri": "https://localhost:8080/",
          "height": 34
        }
      },
      "source": [
        "heapq.heappop(list_1)"
      ],
      "execution_count": 0,
      "outputs": [
        {
          "output_type": "execute_result",
          "data": {
            "text/plain": [
              "2"
            ]
          },
          "metadata": {
            "tags": []
          },
          "execution_count": 16
        }
      ]
    },
    {
      "cell_type": "code",
      "metadata": {
        "id": "s-1nKUuSqPMh",
        "colab_type": "code",
        "colab": {}
      },
      "source": [
        "str1 = 'aaaabbbccc'\n",
        "rr = collections.Counter(str1)"
      ],
      "execution_count": 0,
      "outputs": []
    },
    {
      "cell_type": "code",
      "metadata": {
        "id": "NNEL23KZqYk5",
        "colab_type": "code",
        "outputId": "daefa6aa-f4b4-4697-8e7d-4390491b1ca6",
        "colab": {
          "base_uri": "https://localhost:8080/",
          "height": 34
        }
      },
      "source": [
        "rr"
      ],
      "execution_count": 0,
      "outputs": [
        {
          "output_type": "execute_result",
          "data": {
            "text/plain": [
              "Counter({'a': 4, 'b': 3, 'c': 3})"
            ]
          },
          "metadata": {
            "tags": []
          },
          "execution_count": 21
        }
      ]
    },
    {
      "cell_type": "code",
      "metadata": {
        "id": "LF1gTv1_nZmH",
        "colab_type": "code",
        "colab": {}
      },
      "source": [
        "# HeapNode class\n",
        "class HeapNode:\n",
        "  def __init__(self, char, frequency):\n",
        "    self.char = char\n",
        "    self.frequency = frequency\n",
        "    self.left_node = None\n",
        "    self.right_node = None\n",
        "\n",
        "  def __lt__(self, node):\n",
        "    return self.frequency < node.frequency\n",
        "\n",
        "  def __eq__(self, node):\n",
        "    if node is None:\n",
        "      return False\n",
        "    \n",
        "    if not isinstance(node, HeapNode):\n",
        "      return False\n",
        "\n",
        "    return self.frequency == node.frequency"
      ],
      "execution_count": 0,
      "outputs": []
    },
    {
      "cell_type": "code",
      "metadata": {
        "id": "7raHK6k4o8oA",
        "colab_type": "code",
        "colab": {}
      },
      "source": [
        "# Huffman Coding\n",
        "class HuffmanCoding:\n",
        "  def __init__(self):\n",
        "    self.heap = []\n",
        "\n",
        "  def huffman_encoding(self, data):\n",
        "    # Find the frequency of the characters\n",
        "    freq = collections.Counter(data)\n",
        "\n",
        "    # Create a heap queue using heapq\n",
        "    for key in freq:\n",
        "      node = HeapNode(key, freq[key])\n",
        "      heapq.heappush(self.heap, node)\n",
        "\n",
        "    # Merge the nodes - at the end there will be 1 root node. Frequency should be the total number of chars.\n",
        "    while(len(self.heap)>1):\n",
        "      node1 = heapq.heappop(self.heap)\n",
        "      node2 = heapq.heappop(self.heap)\n",
        "      merged_node = HeapNode(None, node1.frequency + node2.frequency)\n",
        "      merged_node.left_node = node1\n",
        "      merged_node.right_node = node2\n",
        "      heapq.heappush(self.heap, merged_node)\n",
        "    \n",
        "    # Assign the codes\n",
        "    # Encode the text"
      ],
      "execution_count": 0,
      "outputs": []
    },
    {
      "cell_type": "code",
      "metadata": {
        "id": "BAgC_oU9rSVF",
        "colab_type": "code",
        "colab": {}
      },
      "source": [
        "hc = HuffmanCoding()\n",
        "aa = hc.huffman_encoding('aaabbcccc')"
      ],
      "execution_count": 0,
      "outputs": []
    },
    {
      "cell_type": "code",
      "metadata": {
        "id": "SU_1QkA7rcvc",
        "colab_type": "code",
        "colab": {}
      },
      "source": [
        "root = hc.heap[0]"
      ],
      "execution_count": 0,
      "outputs": []
    },
    {
      "cell_type": "code",
      "metadata": {
        "id": "TiXsPOLb51gw",
        "colab_type": "code",
        "colab": {
          "base_uri": "https://localhost:8080/",
          "height": 34
        },
        "outputId": "72718353-2375-46bd-c13a-aa307deb8719"
      },
      "source": [
        "root.frequency, root.char"
      ],
      "execution_count": 58,
      "outputs": [
        {
          "output_type": "execute_result",
          "data": {
            "text/plain": [
              "(9, None)"
            ]
          },
          "metadata": {
            "tags": []
          },
          "execution_count": 58
        }
      ]
    },
    {
      "cell_type": "code",
      "metadata": {
        "id": "1Pmjl3dL59Ax",
        "colab_type": "code",
        "colab": {}
      },
      "source": [
        "second_level_l = root.left_node"
      ],
      "execution_count": 0,
      "outputs": []
    },
    {
      "cell_type": "code",
      "metadata": {
        "id": "IubgS0Gf9BcI",
        "colab_type": "code",
        "colab": {
          "base_uri": "https://localhost:8080/",
          "height": 34
        },
        "outputId": "c15afa45-b0d4-45ce-90f8-a6eb7fbb2842"
      },
      "source": [
        "second_level_l.char"
      ],
      "execution_count": 62,
      "outputs": [
        {
          "output_type": "execute_result",
          "data": {
            "text/plain": [
              "'c'"
            ]
          },
          "metadata": {
            "tags": []
          },
          "execution_count": 62
        }
      ]
    },
    {
      "cell_type": "code",
      "metadata": {
        "id": "zAVuks39AmHI",
        "colab_type": "code",
        "colab": {
          "base_uri": "https://localhost:8080/",
          "height": 34
        },
        "outputId": "1f02f115-e5d3-413b-a09b-90d5b914f31e"
      },
      "source": [
        "second_level_r = root.right_node\n",
        "second_level_r.frequency"
      ],
      "execution_count": 65,
      "outputs": [
        {
          "output_type": "execute_result",
          "data": {
            "text/plain": [
              "5"
            ]
          },
          "metadata": {
            "tags": []
          },
          "execution_count": 65
        }
      ]
    },
    {
      "cell_type": "code",
      "metadata": {
        "id": "p_aPWSiYA17y",
        "colab_type": "code",
        "colab": {}
      },
      "source": [
        "third_level_l = second_level_r.left_node"
      ],
      "execution_count": 0,
      "outputs": []
    },
    {
      "cell_type": "code",
      "metadata": {
        "id": "eu3RsB_SBCoM",
        "colab_type": "code",
        "colab": {
          "base_uri": "https://localhost:8080/",
          "height": 34
        },
        "outputId": "e4627da2-eb88-4d55-8fee-7ec0b4f71be1"
      },
      "source": [
        "third_level_l.char"
      ],
      "execution_count": 68,
      "outputs": [
        {
          "output_type": "execute_result",
          "data": {
            "text/plain": [
              "'b'"
            ]
          },
          "metadata": {
            "tags": []
          },
          "execution_count": 68
        }
      ]
    },
    {
      "cell_type": "code",
      "metadata": {
        "id": "I39fdHk1BGWv",
        "colab_type": "code",
        "colab": {
          "base_uri": "https://localhost:8080/",
          "height": 34
        },
        "outputId": "f823342d-b84e-4e16-a06f-75bb532a68db"
      },
      "source": [
        "third_level_r = second_level_r.right_node\n",
        "third_level_r.char"
      ],
      "execution_count": 69,
      "outputs": [
        {
          "output_type": "execute_result",
          "data": {
            "text/plain": [
              "'a'"
            ]
          },
          "metadata": {
            "tags": []
          },
          "execution_count": 69
        }
      ]
    },
    {
      "cell_type": "code",
      "metadata": {
        "id": "opdB0RRFBXkg",
        "colab_type": "code",
        "colab": {}
      },
      "source": [
        ""
      ],
      "execution_count": 0,
      "outputs": []
    }
  ]
}