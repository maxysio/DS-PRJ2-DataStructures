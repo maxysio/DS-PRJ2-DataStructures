{
  "nbformat": 4,
  "nbformat_minor": 0,
  "metadata": {
    "colab": {
      "name": "02-FileSearchRecursion.ipynb",
      "provenance": [],
      "include_colab_link": true
    },
    "kernelspec": {
      "name": "python3",
      "display_name": "Python 3"
    }
  },
  "cells": [
    {
      "cell_type": "markdown",
      "metadata": {
        "id": "view-in-github",
        "colab_type": "text"
      },
      "source": [
        "<a href=\"https://colab.research.google.com/github/maxysio/DS-PRJ2-DataStructures/blob/master/02-FileSearchRecursion.ipynb\" target=\"_parent\"><img src=\"https://colab.research.google.com/assets/colab-badge.svg\" alt=\"Open In Colab\"/></a>"
      ]
    },
    {
      "cell_type": "code",
      "metadata": {
        "id": "jjBaeGufrbn7",
        "colab_type": "code",
        "colab": {}
      },
      "source": [
        "import os"
      ],
      "execution_count": 0,
      "outputs": []
    },
    {
      "cell_type": "code",
      "metadata": {
        "id": "CU1EW6qPqpsH",
        "colab_type": "code",
        "colab": {}
      },
      "source": [
        "# File path for testing\n",
        "file_path = '/content/drive/My Drive/testdir'\n",
        "suffix_search = '.c'"
      ],
      "execution_count": 0,
      "outputs": []
    },
    {
      "cell_type": "code",
      "metadata": {
        "id": "lP2r-BT1qs_U",
        "colab_type": "code",
        "colab": {}
      },
      "source": [
        "def find_files(suffix, path):\n",
        "    \"\"\"\n",
        "    Find all files beneath path with file name suffix.\n",
        "\n",
        "    Note that a path may contain further subdirectories\n",
        "    and those subdirectories may also contain further subdirectories.\n",
        "\n",
        "    There are no limit to the depth of the subdirectories can be.\n",
        "\n",
        "    Args:\n",
        "      suffix(str): suffix if the file name to be found\n",
        "      path(str): path of the file system\n",
        "\n",
        "    Returns:\n",
        "       a list of paths\n",
        "    \"\"\"\n",
        "    file_list = []\n",
        "    if(os.path.isdir(path)):\n",
        "      _find_files(suffix, path, file_list)\n",
        "\n",
        "    return file_list"
      ],
      "execution_count": 0,
      "outputs": []
    },
    {
      "cell_type": "code",
      "metadata": {
        "id": "3rbbk7HOsqz6",
        "colab_type": "code",
        "colab": {}
      },
      "source": [
        "def _find_files(suffix, path, file_list):\n",
        "  # Get the directory content\n",
        "  folder_contents = os.listdir(path)\n",
        "\n",
        "  for f in folder_contents:\n",
        "    full_path = os.path.join(path, f)\n",
        "    \n",
        "    # Check if its a folder\n",
        "    if(os.path.isdir(full_path)):\n",
        "      # Recursively call this function\n",
        "      _find_files(suffix, full_path, file_list)\n",
        "    elif f.endswith(suffix_search):\n",
        "      # Its a file, check extension\n",
        "      file_list.append(full_path)"
      ],
      "execution_count": 0,
      "outputs": []
    },
    {
      "cell_type": "code",
      "metadata": {
        "id": "ZOpeZdc7txGY",
        "colab_type": "code",
        "outputId": "65fe80de-ae46-47ff-cd53-7c16227c5beb",
        "colab": {
          "base_uri": "https://localhost:8080/",
          "height": 85
        }
      },
      "source": [
        "find_files(suffix_search, file_path)"
      ],
      "execution_count": 0,
      "outputs": [
        {
          "output_type": "execute_result",
          "data": {
            "text/plain": [
              "['/content/drive/My Drive/testdir/subdir3/subsubdir1/b.c',\n",
              " '/content/drive/My Drive/testdir/subdir1/a.c',\n",
              " '/content/drive/My Drive/testdir/subdir5/a.c',\n",
              " '/content/drive/My Drive/testdir/t1.c']"
            ]
          },
          "metadata": {
            "tags": []
          },
          "execution_count": 32
        }
      ]
    }
  ]
}