{
  "nbformat": 4,
  "nbformat_minor": 0,
  "metadata": {
    "colab": {
      "name": "04-ActiveDirectory.ipynb",
      "provenance": [],
      "authorship_tag": "ABX9TyOtr1qEvZfOyr8xSAoO6+NR",
      "include_colab_link": true
    },
    "kernelspec": {
      "name": "python3",
      "display_name": "Python 3"
    }
  },
  "cells": [
    {
      "cell_type": "markdown",
      "metadata": {
        "id": "view-in-github",
        "colab_type": "text"
      },
      "source": [
        "<a href=\"https://colab.research.google.com/github/maxysio/DS-PRJ2-DataStructures/blob/master/04-ActiveDirectory.ipynb\" target=\"_parent\"><img src=\"https://colab.research.google.com/assets/colab-badge.svg\" alt=\"Open In Colab\"/></a>"
      ]
    },
    {
      "cell_type": "code",
      "metadata": {
        "id": "6W_uGNM8OoEp",
        "colab_type": "code",
        "colab": {}
      },
      "source": [
        "class Group(object):\n",
        "    def __init__(self, _name):\n",
        "        self.name = _name\n",
        "        self.groups = []\n",
        "        self.users = []\n",
        "\n",
        "    def add_group(self, group):\n",
        "        self.groups.append(group)\n",
        "\n",
        "    def add_user(self, user):\n",
        "        self.users.append(user)\n",
        "\n",
        "    def get_groups(self):\n",
        "        return self.groups\n",
        "\n",
        "    def get_users(self):\n",
        "        return self.users\n",
        "\n",
        "    def get_name(self):\n",
        "        return self.name\n",
        "\n",
        "\n",
        "parent = Group(\"parent\")\n",
        "child = Group(\"child\")\n",
        "sub_child = Group(\"subchild\")\n",
        "\n",
        "sub_child_user = \"sub_child_user\"\n",
        "sub_child.add_user(sub_child_user)\n",
        "\n",
        "child.add_group(sub_child)\n",
        "parent.add_group(child)\n",
        "\n",
        "# Additional data\n",
        "parent.add_user('User_1')\n",
        "child.add_user('User_2')\n",
        "child.add_user('User_3')\n",
        "child.add_user('User_4')\n",
        "sub_child.add_user('User_5')\n",
        "\n"
      ],
      "execution_count": 0,
      "outputs": []
    },
    {
      "cell_type": "code",
      "metadata": {
        "id": "c5pYur32OvFB",
        "colab_type": "code",
        "colab": {}
      },
      "source": [
        "def is_user_in_group(user, group):\n",
        "    \"\"\"\n",
        "    Return True if user is in the group, False otherwise.\n",
        "\n",
        "    Args:\n",
        "      user(str): user name/id\n",
        "      group(class:Group): group to check user membership against\n",
        "    \"\"\"\n",
        "    if user in group.users:\n",
        "      return True\n",
        "    else:\n",
        "      for gr in group.get_groups():\n",
        "        return is_user_in_group(user, gr)\n",
        "    \n",
        "    return False\n",
        "    "
      ],
      "execution_count": 0,
      "outputs": []
    },
    {
      "cell_type": "code",
      "metadata": {
        "id": "CinpGNZpUFHp",
        "colab_type": "code",
        "colab": {
          "base_uri": "https://localhost:8080/",
          "height": 119
        },
        "outputId": "2d8413dd-1cbb-452a-dfc4-2971e5b3512c"
      },
      "source": [
        "print(str(is_user_in_group('sub_child_user', parent)) + ' : Should be True')\n",
        "print(str(is_user_in_group('Random User', child)) + ' : Should be False')\n",
        "print(str(is_user_in_group('User_1', child)) + ' : Should be False')\n",
        "print(str(is_user_in_group('User_3', parent)) + ' : Should be True')\n",
        "print(str(is_user_in_group('User_5', child)) + ' : Should be True')\n",
        "print(str(is_user_in_group('User_4', parent)) + ' : Should be True')"
      ],
      "execution_count": 30,
      "outputs": [
        {
          "output_type": "stream",
          "text": [
            "True : Should be True\n",
            "False : Should be False\n",
            "False : Should be False\n",
            "True : Should be True\n",
            "True : Should be True\n",
            "True : Should be True\n"
          ],
          "name": "stdout"
        }
      ]
    }
  ]
}