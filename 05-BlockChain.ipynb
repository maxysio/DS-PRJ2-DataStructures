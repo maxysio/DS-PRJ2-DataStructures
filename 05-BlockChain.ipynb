{
  "nbformat": 4,
  "nbformat_minor": 0,
  "metadata": {
    "colab": {
      "name": "Untitled0.ipynb",
      "provenance": [],
      "authorship_tag": "ABX9TyOtHceNUhi72DR0LherU+n/",
      "include_colab_link": true
    },
    "kernelspec": {
      "name": "python3",
      "display_name": "Python 3"
    }
  },
  "cells": [
    {
      "cell_type": "markdown",
      "metadata": {
        "id": "view-in-github",
        "colab_type": "text"
      },
      "source": [
        "<a href=\"https://colab.research.google.com/github/maxysio/DS-PRJ2-DataStructures/blob/master/05-BlockChain.ipynb\" target=\"_parent\"><img src=\"https://colab.research.google.com/assets/colab-badge.svg\" alt=\"Open In Colab\"/></a>"
      ]
    },
    {
      "cell_type": "code",
      "metadata": {
        "id": "PdWLk9hqWXYm",
        "colab_type": "code",
        "colab": {}
      },
      "source": [
        "import hashlib\n",
        "from time import gmtime, strftime\n",
        "import time"
      ],
      "execution_count": 0,
      "outputs": []
    },
    {
      "cell_type": "code",
      "metadata": {
        "id": "VeLGz6kxjETy",
        "colab_type": "code",
        "colab": {}
      },
      "source": [
        "def calc_hashx(data):\n",
        "    sha = hashlib.sha256()\n",
        "    sha.update(data.encode('utf-8'))\n",
        "    return sha.hexdigest()"
      ],
      "execution_count": 0,
      "outputs": []
    },
    {
      "cell_type": "code",
      "metadata": {
        "id": "P1MM1HWsXk9L",
        "colab_type": "code",
        "colab": {}
      },
      "source": [
        "class Block:\n",
        "    def __init__(self, timestamp, data, previous_hash, current_hash):\n",
        "      self.timestamp = timestamp\n",
        "      self.data = data\n",
        "      self.previous_hash = previous_hash\n",
        "      self.hash = current_hash"
      ],
      "execution_count": 0,
      "outputs": []
    },
    {
      "cell_type": "code",
      "metadata": {
        "id": "fQvNJXoqX46e",
        "colab_type": "code",
        "colab": {}
      },
      "source": [
        "class BlockChain:\n",
        "  def __init__(self):\n",
        "    self.blocks = []\n",
        "    self.head = None\n",
        "    \n",
        "  def calc_hash(self, data):\n",
        "    sha = hashlib.sha256()\n",
        "    sha.update(data.encode('utf-8'))\n",
        "    return sha.hexdigest()\n",
        "\n",
        "  def prepend(self, data):\n",
        "    # Create a new block\n",
        "    data_hash = self.calc_hash(data)\n",
        "    new_block = Block(time.gmtime(), data, None, data_hash)\n",
        "    self.blocks.insert(0, new_block)\n",
        "\n",
        "    if self.head is None:\n",
        "      # If no head, that would mean its an empty BlockChain\n",
        "      self.head = new_block\n",
        "      return\n",
        "    \n",
        "    # Assign the new blocks hash to the previous hash of the head and move head to the new block\n",
        "    self.head.previous_hash = new_block.hash\n",
        "    self.head = new_block\n",
        "\n",
        "  def append(self, data):\n",
        "    # Create a new block\n",
        "    data_hash = self.calc_hash(data)\n",
        "    new_block = Block(time.gmtime(), data, None, data_hash)\n",
        "    self.blocks.append(new_block)\n",
        "\n",
        "    if self.head is None:\n",
        "      # If no head, that would mean no tail, assign both to new block and return\n",
        "      self.head = new_block\n",
        "      return\n",
        "\n",
        "    # Assign the hash from the tail to the new blocks previous hash, move the tail to the new block\n",
        "    new_block.previous_hash = self.calc_hash(self.blocks[-1].data)\n",
        "\n",
        "  def search(self, data):\n",
        "    # Run through the list to find the block object\n",
        "    for b in self.blocks:\n",
        "      if b.data == data:\n",
        "        return b\n",
        "    print('{} not found in BlockChain'.format(data))\n",
        "    return None\n",
        "    \n",
        "  def remove(self, data):\n",
        "    # If the size is 0, then nothing to remove\n",
        "    if self.size() == 0:\n",
        "      return\n",
        "    \n",
        "    block = self.search(data)\n",
        "    if block:\n",
        "      # If data is found in the block chain,\n",
        "      # Check if the size of the block chain is 1, then its the only object\n",
        "      if self.size() == 1:\n",
        "        self.blocks = []\n",
        "        return\n",
        "\n",
        "      # Find the block before and after it and link them\n",
        "      \n",
        "      current_block_hash = self.calc_hash(block.data)\n",
        "      prev_block = None\n",
        "      next_block = None\n",
        "      \n",
        "      # For the block before, travel through the list, \n",
        "      # check block's previous hash against hash of the data in the block in the list\n",
        "      for b in self.blocks:\n",
        "        if block.previous_hash == self.calc_hash(b.data):\n",
        "          prev_block = b\n",
        "          break\n",
        "      \n",
        "      # For the block after, travel through the list,\n",
        "      # check hash of current block's data against the previous hash of the block in the list\n",
        "      for b in self.blocks:\n",
        "        if b.previous_hash == current_block_hash:\n",
        "          next_block = b\n",
        "          break\n",
        "      \n",
        "      if next_block and prev_block:\n",
        "        print('Here')\n",
        "        # Block to be deleted in the middle\n",
        "        next_block.previous_hash = self.calc_hash(prev_block.data)\n",
        "      elif next_block:\n",
        "        # Block to be deleted is in the begining\n",
        "        next_block.previous_hash = None\n",
        "\n",
        "      # If Block to be deleted is at the end, no action item\n",
        "\n",
        "      # Finally remove the block from the list\n",
        "      self.blocks.remove(block)\n",
        "\n",
        "  def pop(self):\n",
        "    # Remove the last item from the Block Chain\n",
        "    \n",
        "    # Check if the block chain is empty\n",
        "    if self.size()==0:\n",
        "      print('BlockChain is empty')\n",
        "      return\n",
        "\n",
        "    block = self.blocks[-1]\n",
        "\n",
        "    # Remove\n",
        "    self.remove(block.data)\n",
        "\n",
        "    return block\n",
        "\n",
        "  def insert(self, data, pos):\n",
        "    # if block chain is empty, just add it irrespective of position\n",
        "    if self.size() == 0:\n",
        "      self.append(data)\n",
        "      return\n",
        "\n",
        "    # if pos is 1, then its the begining, so prepend it\n",
        "    if pos == 1:\n",
        "      self.prepend(data)\n",
        "      return\n",
        "\n",
        "    # if position is greater than the size of the BlockChain, add it to the end\n",
        "    if pos > self.size():\n",
        "      self.append(data)\n",
        "      return\n",
        "\n",
        "    # Create a new block\n",
        "    data_hash = self.calc_hash(data)\n",
        "    new_block = Block(time.gmtime(), data, None, data_hash)\n",
        "\n",
        "    # Get the block from the list for that position and the previous one\n",
        "    next_block = self.blocks[pos-1]\n",
        "    prev_block = self.blocks[pos-2]\n",
        "\n",
        "    # assign the has correctly\n",
        "    new_block.previous_hash = next_block.previous_hash\n",
        "    next_block.previous_hash = data_hash\n",
        "    \n",
        "    # insert new block into the list\n",
        "    self.blocks.insert(pos-1, new_block)\n",
        "\n",
        "  def size(self):\n",
        "    return len(self.blocks)"
      ],
      "execution_count": 0,
      "outputs": []
    },
    {
      "cell_type": "code",
      "metadata": {
        "id": "--EOl7mSa4Os",
        "colab_type": "code",
        "colab": {}
      },
      "source": [
        "bc = BlockChain()\n",
        "bc.append('Block1')\n",
        "bc.append('Block2')\n",
        "bc.append('Block3')\n",
        "bc.append('Block4')"
      ],
      "execution_count": 0,
      "outputs": []
    },
    {
      "cell_type": "code",
      "metadata": {
        "id": "zvGT7HIfiyjh",
        "colab_type": "code",
        "colab": {
          "base_uri": "https://localhost:8080/",
          "height": 34
        },
        "outputId": "af6af976-9878-4295-cec2-abbaddc70da9"
      },
      "source": [
        "bc.size()"
      ],
      "execution_count": 131,
      "outputs": [
        {
          "output_type": "execute_result",
          "data": {
            "text/plain": [
              "4"
            ]
          },
          "metadata": {
            "tags": []
          },
          "execution_count": 131
        }
      ]
    },
    {
      "cell_type": "code",
      "metadata": {
        "id": "smt-pd_TbRxs",
        "colab_type": "code",
        "colab": {
          "base_uri": "https://localhost:8080/",
          "height": 124
        },
        "outputId": "a786649f-0f95-4cb8-dfca-ba113120593d"
      },
      "source": [
        "for b in bc.blocks:\n",
        "  print(b.data, 'Current Block Hash: {}'.format(calc_hashx(b.data)), 'Prev Hash: {}'.format(b.previous_hash))"
      ],
      "execution_count": 135,
      "outputs": [
        {
          "output_type": "stream",
          "text": [
            "Block67 Current Block Hash: 721984ef2b862d17a1e9329e46f8eaa85a70de9e88c248872e5a259c6264dca3 Prev Hash: None\n",
            "Block1 Current Block Hash: 40e9b17a3391b5f461b2b96a2e5810a885f088346b901c65ebb5cf8cf7361103 Prev Hash: 721984ef2b862d17a1e9329e46f8eaa85a70de9e88c248872e5a259c6264dca3\n",
            "Block2 Current Block Hash: 61edd5d6b03c20f764aab3bc4291b162ff48958e316603d4c07548a37872e380 Prev Hash: 61edd5d6b03c20f764aab3bc4291b162ff48958e316603d4c07548a37872e380\n",
            "Block3 Current Block Hash: f76000270122d79ba262f8298080d37b8645d471d3885999274deba5caa7f704 Prev Hash: f76000270122d79ba262f8298080d37b8645d471d3885999274deba5caa7f704\n",
            "Block4 Current Block Hash: ca174e0d60e2740ce87f5d4b303104edbaa26eae3792f2dc9711e2ea527d6b3c Prev Hash: ca174e0d60e2740ce87f5d4b303104edbaa26eae3792f2dc9711e2ea527d6b3c\n"
          ],
          "name": "stdout"
        }
      ]
    },
    {
      "cell_type": "code",
      "metadata": {
        "id": "ZXl8a91RoTeL",
        "colab_type": "code",
        "colab": {}
      },
      "source": [
        "bc.insert('Block67', 1)"
      ],
      "execution_count": 0,
      "outputs": []
    },
    {
      "cell_type": "code",
      "metadata": {
        "id": "dOxY76ejoXuI",
        "colab_type": "code",
        "colab": {
          "base_uri": "https://localhost:8080/",
          "height": 34
        },
        "outputId": "fd59cc27-6adc-4fa1-ff0b-be178f38164e"
      },
      "source": [
        "bc.head.data"
      ],
      "execution_count": 134,
      "outputs": [
        {
          "output_type": "execute_result",
          "data": {
            "text/plain": [
              "'Block67'"
            ]
          },
          "metadata": {
            "tags": []
          },
          "execution_count": 134
        }
      ]
    },
    {
      "cell_type": "code",
      "metadata": {
        "id": "v_3eFdC_qOmr",
        "colab_type": "code",
        "colab": {}
      },
      "source": [
        ""
      ],
      "execution_count": 0,
      "outputs": []
    }
  ]
}