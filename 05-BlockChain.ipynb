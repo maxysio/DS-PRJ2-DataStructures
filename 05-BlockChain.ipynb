{
  "nbformat": 4,
  "nbformat_minor": 0,
  "metadata": {
    "colab": {
      "name": "Untitled0.ipynb",
      "provenance": [],
      "authorship_tag": "ABX9TyMaHt8d51N6XTZOhWd7o/bB",
      "include_colab_link": true
    },
    "kernelspec": {
      "name": "python3",
      "display_name": "Python 3"
    }
  },
  "cells": [
    {
      "cell_type": "markdown",
      "metadata": {
        "id": "view-in-github",
        "colab_type": "text"
      },
      "source": [
        "<a href=\"https://colab.research.google.com/github/maxysio/DS-PRJ2-DataStructures/blob/master/05-BlockChain.ipynb\" target=\"_parent\"><img src=\"https://colab.research.google.com/assets/colab-badge.svg\" alt=\"Open In Colab\"/></a>"
      ]
    },
    {
      "cell_type": "code",
      "metadata": {
        "id": "PdWLk9hqWXYm",
        "colab_type": "code",
        "colab": {}
      },
      "source": [
        "import hashlib"
      ],
      "execution_count": 0,
      "outputs": []
    },
    {
      "cell_type": "code",
      "metadata": {
        "id": "z0X2yOeeXEdA",
        "colab_type": "code",
        "colab": {}
      },
      "source": [
        ""
      ],
      "execution_count": 0,
      "outputs": []
    },
    {
      "cell_type": "code",
      "metadata": {
        "id": "P1MM1HWsXk9L",
        "colab_type": "code",
        "colab": {}
      },
      "source": [
        "class Block:\n",
        "\n",
        "    def __init__(self, timestamp, data, previous_hash):\n",
        "      self.timestamp = timestamp\n",
        "      self.data = data\n",
        "      self.previous_hash = previous_hash\n",
        "      self.hash = self.calc_hash()\n",
        "\n",
        "    def calc_hash(self):\n",
        "      sha = hashlib.sha256()\n",
        "      sha.update(self.data.encode('utf-8'))\n",
        "      return sha.hexdigest()"
      ],
      "execution_count": 0,
      "outputs": []
    },
    {
      "cell_type": "code",
      "metadata": {
        "id": "AuJygszuXr3h",
        "colab_type": "code",
        "colab": {
          "base_uri": "https://localhost:8080/",
          "height": 34
        },
        "outputId": "1ca950be-097e-41f1-f381-334b07d2d645"
      },
      "source": [
        "calc_hash('Its a lovely day')"
      ],
      "execution_count": 12,
      "outputs": [
        {
          "output_type": "execute_result",
          "data": {
            "text/plain": [
              "'43e071b067e40dffd787f7c7a6a53c4af05ae7cb55760c35ca3f6c4a97726a7d'"
            ]
          },
          "metadata": {
            "tags": []
          },
          "execution_count": 12
        }
      ]
    },
    {
      "cell_type": "code",
      "metadata": {
        "id": "fQvNJXoqX46e",
        "colab_type": "code",
        "colab": {}
      },
      "source": [
        "class BlockChain:\n",
        "  def __init__(self):\n",
        "    "
      ],
      "execution_count": 0,
      "outputs": []
    }
  ]
}