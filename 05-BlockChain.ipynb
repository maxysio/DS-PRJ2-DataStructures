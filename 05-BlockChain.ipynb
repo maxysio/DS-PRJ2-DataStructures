{
  "nbformat": 4,
  "nbformat_minor": 0,
  "metadata": {
    "colab": {
      "name": "Untitled0.ipynb",
      "provenance": [],
      "authorship_tag": "ABX9TyM3z6gBcgg6GIPsqd2gUksg",
      "include_colab_link": true
    },
    "kernelspec": {
      "name": "python3",
      "display_name": "Python 3"
    }
  },
  "cells": [
    {
      "cell_type": "markdown",
      "metadata": {
        "id": "view-in-github",
        "colab_type": "text"
      },
      "source": [
        "<a href=\"https://colab.research.google.com/github/maxysio/DS-PRJ2-DataStructures/blob/master/05-BlockChain.ipynb\" target=\"_parent\"><img src=\"https://colab.research.google.com/assets/colab-badge.svg\" alt=\"Open In Colab\"/></a>"
      ]
    },
    {
      "cell_type": "code",
      "metadata": {
        "id": "PdWLk9hqWXYm",
        "colab_type": "code",
        "colab": {}
      },
      "source": [
        "import hashlib\n",
        "from time import gmtime, strftime\n",
        "import time"
      ],
      "execution_count": 0,
      "outputs": []
    },
    {
      "cell_type": "code",
      "metadata": {
        "id": "P1MM1HWsXk9L",
        "colab_type": "code",
        "colab": {}
      },
      "source": [
        "class Block:\n",
        "    def __init__(self, timestamp, data, previous_hash, current_hash):\n",
        "      self.timestamp = timestamp\n",
        "      self.data = data\n",
        "      self.previous_hash = previous_hash\n",
        "      self.hash = current_hash"
      ],
      "execution_count": 0,
      "outputs": []
    },
    {
      "cell_type": "code",
      "metadata": {
        "id": "fQvNJXoqX46e",
        "colab_type": "code",
        "colab": {}
      },
      "source": [
        "class BlockChain:\n",
        "  def __init__(self):\n",
        "    self.blocks = {}\n",
        "    self.head = None\n",
        "    self.tail = None\n",
        "\n",
        "  def calc_hash(data):\n",
        "    sha = hashlib.sha256()\n",
        "    sha.update(data.encode('utf-8'))\n",
        "    return sha.hexdigest()\n",
        "\n",
        "  def prepend(self, data):\n",
        "    # Create a new block\n",
        "    data_hash = self.calc_hash(data)\n",
        "    new_block = Block(time.gmtime(), data, None, data_hash)\n",
        "    self.blocks.append(new_block)\n",
        "\n",
        "    if self.head is None:\n",
        "      # If no head, that would mean no tail, assign both to new block and return\n",
        "      self.head = new_block\n",
        "      self.tail = new_block\n",
        "      return\n",
        "    \n",
        "    # Assign the new blocks hash to the previous hash of the head and move head to the new block\n",
        "    self.head.previous_hash = new_block.hash\n",
        "    self.head = new_block\n",
        "\n",
        "  def append(self, data):\n",
        "    # Create a new block\n",
        "    data_hash = self.calc_hash(data)\n",
        "    new_block = Block(time.gmtime(), data, None, data_hash)\n",
        "    self.blocks.append(new_block)\n",
        "\n",
        "    if self.head is None:\n",
        "      # If no head, that would mean no tail, assign both to new block and return\n",
        "      self.head = new_block\n",
        "      self.tail = new_block\n",
        "      return\n",
        "\n",
        "    # Assign the hash from the tail to the new blocks previous hash, move the tail to the new block\n",
        "    new_block.previous_hash = self.tail.hash\n",
        "    self.tail = new_block\n",
        "\n",
        "\n",
        "  def search(self, data):\n",
        "    # Traverse through the list and find based on data or hash\n",
        "    # Or via head/tail\n",
        "    # ?????\n",
        "    \n",
        "  def remove(self, data):\n",
        "    pass\n",
        "\n",
        "  def pop(self):\n",
        "    pass\n",
        "\n",
        "  def insert(self, data):\n",
        "    pass\n",
        "\n",
        "  def size(self):\n",
        "    pass"
      ],
      "execution_count": 0,
      "outputs": []
    }
  ]
}