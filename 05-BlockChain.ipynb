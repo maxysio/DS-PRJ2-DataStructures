{
  "nbformat": 4,
  "nbformat_minor": 0,
  "metadata": {
    "colab": {
      "name": "Untitled0.ipynb",
      "provenance": [],
      "authorship_tag": "ABX9TyMr7eWGCdhNuMDMoiBY/+Yl",
      "include_colab_link": true
    },
    "kernelspec": {
      "name": "python3",
      "display_name": "Python 3"
    }
  },
  "cells": [
    {
      "cell_type": "markdown",
      "metadata": {
        "id": "view-in-github",
        "colab_type": "text"
      },
      "source": [
        "<a href=\"https://colab.research.google.com/github/maxysio/DS-PRJ2-DataStructures/blob/master/05-BlockChain.ipynb\" target=\"_parent\"><img src=\"https://colab.research.google.com/assets/colab-badge.svg\" alt=\"Open In Colab\"/></a>"
      ]
    },
    {
      "cell_type": "code",
      "metadata": {
        "id": "PdWLk9hqWXYm",
        "colab_type": "code",
        "colab": {}
      },
      "source": [
        "import hashlib\n",
        "from time import gmtime, strftime\n",
        "import time"
      ],
      "execution_count": 0,
      "outputs": []
    },
    {
      "cell_type": "code",
      "metadata": {
        "id": "P1MM1HWsXk9L",
        "colab_type": "code",
        "colab": {}
      },
      "source": [
        "class Block:\n",
        "    def __init__(self, timestamp, data, previous_hash):\n",
        "      if data is None or data == '':\n",
        "        print('Invalid Data for Block Chain')\n",
        "        return\n",
        "        \n",
        "      self.timestamp = timestamp\n",
        "      self.data = data\n",
        "      self.previous_hash = previous_hash\n",
        "      self.hash = self.calc_hash()\n",
        "\n",
        "    def calc_hash(self):\n",
        "      sha = hashlib.sha256()\n",
        "      sha.update(self.data.encode('utf-8'))\n",
        "      return sha.hexdigest()"
      ],
      "execution_count": 0,
      "outputs": []
    },
    {
      "cell_type": "code",
      "metadata": {
        "id": "fQvNJXoqX46e",
        "colab_type": "code",
        "colab": {}
      },
      "source": [
        "class BlockChain:\n",
        "  def __init__(self):\n",
        "    self.blocks = []\n",
        "    self.head = None\n",
        "    \n",
        "  def prepend(self, data):\n",
        "    # Create a new block\n",
        "    new_block = Block(time.gmtime(), data, None)\n",
        "    self.blocks.insert(0, new_block)\n",
        "\n",
        "    if self.head is None:\n",
        "      # If no head, that would mean its an empty BlockChain\n",
        "      self.head = new_block\n",
        "      return\n",
        "    \n",
        "    # Assign the new blocks hash to the previous hash of the head and move head to the new block\n",
        "    self.head.previous_hash = new_block.hash\n",
        "    self.head = new_block\n",
        "\n",
        "  def append(self, data):\n",
        "    # Create a new block\n",
        "    new_block = Block(time.gmtime(), data, None)\n",
        "\n",
        "    if self.size()>0:\n",
        "      # Assign the hash from the end to the new blocks previous hash\n",
        "      new_block.previous_hash = self.blocks[-1].hash\n",
        "\n",
        "    self.blocks.append(new_block)\n",
        "\n",
        "    if self.head is None:\n",
        "      self.head = new_block\n",
        "      return\n",
        "\n",
        "  def search(self, data):\n",
        "    # create a hash of the data\n",
        "    sha = hashlib.sha256()\n",
        "    sha.update(data.encode('utf-8'))\n",
        "    data_hash = sha.hexdigest()\n",
        "\n",
        "    # Run through the list to find the block object\n",
        "    for b in self.blocks:\n",
        "      if b.hash == data_hash:\n",
        "        return b\n",
        "    print('{} not found in BlockChain'.format(data))\n",
        "    return None\n",
        "    \n",
        "  def remove(self, data):\n",
        "    # If the size is 0, then nothing to remove\n",
        "    if self.size() == 0:\n",
        "      return\n",
        "    \n",
        "    block = self.search(data)\n",
        "    if block:\n",
        "      # If data is found in the block chain,\n",
        "      # Check if the size of the block chain is 1, then its the only object\n",
        "      if self.size() == 1:\n",
        "        self.blocks = []\n",
        "        return\n",
        "\n",
        "      # Find the block before and after it and link them\n",
        "      \n",
        "      prev_block = None\n",
        "      next_block = None\n",
        "      \n",
        "      # For the block before, travel through the list, \n",
        "      # check block's previous hash against hash of the data in the block in the list\n",
        "      for b in self.blocks:\n",
        "        if block.previous_hash == b.hash:\n",
        "          prev_block = b\n",
        "          break\n",
        "      \n",
        "      # For the block after, travel through the list,\n",
        "      # check hash of current block's data against the previous hash of the block in the list\n",
        "      for b in self.blocks:\n",
        "        if b.previous_hash == block.hash:\n",
        "          next_block = b\n",
        "          break\n",
        "      \n",
        "      if next_block and prev_block:\n",
        "        # Block to be deleted in the middle\n",
        "        next_block.previous_hash = prev_block.hash\n",
        "      elif next_block:\n",
        "        # Block to be deleted is in the begining\n",
        "        next_block.previous_hash = None\n",
        "\n",
        "      # If Block to be deleted is at the end, no action item\n",
        "\n",
        "      # Finally remove the block from the list\n",
        "      self.blocks.remove(block)\n",
        "\n",
        "  def pop(self):\n",
        "    # Remove the last item from the Block Chain\n",
        "    \n",
        "    # Check if the block chain is empty\n",
        "    if self.size()==0:\n",
        "      print('BlockChain is empty')\n",
        "      return\n",
        "\n",
        "    block = self.blocks[-1]\n",
        "\n",
        "    # Remove\n",
        "    self.remove(block.data)\n",
        "\n",
        "    return block\n",
        "\n",
        "  def insert(self, data, pos):\n",
        "    # if block chain is empty, just add it irrespective of position\n",
        "    if self.size() == 0:\n",
        "      self.append(data)\n",
        "      return\n",
        "\n",
        "    # if pos is 1, then its the begining, so prepend it\n",
        "    if pos == 1:\n",
        "      self.prepend(data)\n",
        "      return\n",
        "\n",
        "    # if position is greater than the size of the BlockChain, add it to the end\n",
        "    if pos > self.size():\n",
        "      self.append(data)\n",
        "      return\n",
        "\n",
        "    # Create a new block\n",
        "    new_block = Block(time.gmtime(), data, None)\n",
        "\n",
        "    # Get the block from the list for that position and the previous one\n",
        "    next_block = self.blocks[pos-1]\n",
        "    prev_block = self.blocks[pos-2]\n",
        "\n",
        "    # assign the has correctly\n",
        "    new_block.previous_hash = next_block.previous_hash\n",
        "    next_block.previous_hash = new_block.hash\n",
        "    \n",
        "    # insert new block into the list\n",
        "    self.blocks.insert(pos-1, new_block)\n",
        "\n",
        "  def size(self):\n",
        "    return len(self.blocks)"
      ],
      "execution_count": 0,
      "outputs": []
    },
    {
      "cell_type": "markdown",
      "metadata": {
        "id": "Jl31XJkgvHmn",
        "colab_type": "text"
      },
      "source": [
        "TEST CODE BELOW"
      ]
    },
    {
      "cell_type": "code",
      "metadata": {
        "id": "w9wjx-ZvsmFs",
        "colab_type": "code",
        "colab": {}
      },
      "source": [
        "bc = BlockChain()\n",
        "bc.append('Block1')\n",
        "bc.append('Block2')\n",
        "bc.append('Block3')\n",
        "bc.append('Block5')"
      ],
      "execution_count": 0,
      "outputs": []
    },
    {
      "cell_type": "code",
      "metadata": {
        "id": "MJi1Ddn1susE",
        "colab_type": "code",
        "outputId": "7e3320a9-845f-457d-a3f9-cb8b7f37f92e",
        "colab": {
          "base_uri": "https://localhost:8080/",
          "height": 34
        }
      },
      "source": [
        "bc.size()"
      ],
      "execution_count": 32,
      "outputs": [
        {
          "output_type": "execute_result",
          "data": {
            "text/plain": [
              "4"
            ]
          },
          "metadata": {
            "tags": []
          },
          "execution_count": 32
        }
      ]
    },
    {
      "cell_type": "code",
      "metadata": {
        "id": "ulH8tHoQswLf",
        "colab_type": "code",
        "outputId": "275223c7-4fd9-4a1c-85ad-82625c3a5343",
        "colab": {
          "base_uri": "https://localhost:8080/",
          "height": 105
        }
      },
      "source": [
        "for b in bc.blocks:\n",
        "  print('Data: {}'.format(b.data), 'Curr Hash: {}'.format(b.hash), 'Prev hash: {}'.format(b.previous_hash))"
      ],
      "execution_count": 33,
      "outputs": [
        {
          "output_type": "stream",
          "text": [
            "Data: Block1 Curr Hash: 40e9b17a3391b5f461b2b96a2e5810a885f088346b901c65ebb5cf8cf7361103 Prev hash: None\n",
            "Data: Block2 Curr Hash: 61edd5d6b03c20f764aab3bc4291b162ff48958e316603d4c07548a37872e380 Prev hash: 40e9b17a3391b5f461b2b96a2e5810a885f088346b901c65ebb5cf8cf7361103\n",
            "Data: Block3 Curr Hash: f76000270122d79ba262f8298080d37b8645d471d3885999274deba5caa7f704 Prev hash: 61edd5d6b03c20f764aab3bc4291b162ff48958e316603d4c07548a37872e380\n",
            "Data: Block5 Curr Hash: 543ef0b11f17bef0e05f7335930915b763e0c227e58455b6d2c9759698ef686a Prev hash: f76000270122d79ba262f8298080d37b8645d471d3885999274deba5caa7f704\n"
          ],
          "name": "stdout"
        }
      ]
    },
    {
      "cell_type": "code",
      "metadata": {
        "id": "BVD-w22wtAhM",
        "colab_type": "code",
        "colab": {}
      },
      "source": [
        "bc.prepend('PBlock6')\n",
        "bc.prepend('PBlock7')\n",
        "bc.prepend('PBlock8')"
      ],
      "execution_count": 0,
      "outputs": []
    },
    {
      "cell_type": "code",
      "metadata": {
        "id": "p5nBx_gPuHRs",
        "colab_type": "code",
        "outputId": "53976901-f4c4-4984-b808-1f301be13587",
        "colab": {
          "base_uri": "https://localhost:8080/",
          "height": 156
        }
      },
      "source": [
        "for b in bc.blocks:\n",
        "  print('Data: {}'.format(b.data), 'Curr Hash: {}'.format(b.hash), 'Prev hash: {}'.format(b.previous_hash))"
      ],
      "execution_count": 35,
      "outputs": [
        {
          "output_type": "stream",
          "text": [
            "Data: PBlock8 Curr Hash: 426aca398b0c462b95ad8833fc75b44273038ced80fadb330a868110448b96f2 Prev hash: None\n",
            "Data: PBlock7 Curr Hash: 229fa73566ee3d5e9ab73718c12c88bd388d7cd33de283e0d582c7ec5dbed106 Prev hash: 426aca398b0c462b95ad8833fc75b44273038ced80fadb330a868110448b96f2\n",
            "Data: PBlock6 Curr Hash: d5fe465bb0fed6b682f14523c1f96790ff88a62805b51874afdf7264fcd258a2 Prev hash: 229fa73566ee3d5e9ab73718c12c88bd388d7cd33de283e0d582c7ec5dbed106\n",
            "Data: Block1 Curr Hash: 40e9b17a3391b5f461b2b96a2e5810a885f088346b901c65ebb5cf8cf7361103 Prev hash: d5fe465bb0fed6b682f14523c1f96790ff88a62805b51874afdf7264fcd258a2\n",
            "Data: Block2 Curr Hash: 61edd5d6b03c20f764aab3bc4291b162ff48958e316603d4c07548a37872e380 Prev hash: 40e9b17a3391b5f461b2b96a2e5810a885f088346b901c65ebb5cf8cf7361103\n",
            "Data: Block3 Curr Hash: f76000270122d79ba262f8298080d37b8645d471d3885999274deba5caa7f704 Prev hash: 61edd5d6b03c20f764aab3bc4291b162ff48958e316603d4c07548a37872e380\n",
            "Data: Block5 Curr Hash: 543ef0b11f17bef0e05f7335930915b763e0c227e58455b6d2c9759698ef686a Prev hash: f76000270122d79ba262f8298080d37b8645d471d3885999274deba5caa7f704\n"
          ],
          "name": "stdout"
        }
      ]
    },
    {
      "cell_type": "code",
      "metadata": {
        "id": "uVn-WFgHuKKW",
        "colab_type": "code",
        "colab": {}
      },
      "source": [
        "bc.insert('Block65', 3)\n",
        "bc.insert('Block66', 3)\n",
        "bc.insert('Block67', 3)"
      ],
      "execution_count": 0,
      "outputs": []
    },
    {
      "cell_type": "code",
      "metadata": {
        "id": "DNJsoB82uXCh",
        "colab_type": "code",
        "outputId": "335dad60-9352-4ff1-b013-de0ae7e0ed2b",
        "colab": {
          "base_uri": "https://localhost:8080/",
          "height": 207
        }
      },
      "source": [
        "for b in bc.blocks:\n",
        "  print('Data: {}'.format(b.data), 'Curr Hash: {}'.format(b.hash), 'Prev hash: {}'.format(b.previous_hash))"
      ],
      "execution_count": 37,
      "outputs": [
        {
          "output_type": "stream",
          "text": [
            "Data: PBlock8 Curr Hash: 426aca398b0c462b95ad8833fc75b44273038ced80fadb330a868110448b96f2 Prev hash: None\n",
            "Data: PBlock7 Curr Hash: 229fa73566ee3d5e9ab73718c12c88bd388d7cd33de283e0d582c7ec5dbed106 Prev hash: 426aca398b0c462b95ad8833fc75b44273038ced80fadb330a868110448b96f2\n",
            "Data: Block67 Curr Hash: 721984ef2b862d17a1e9329e46f8eaa85a70de9e88c248872e5a259c6264dca3 Prev hash: 229fa73566ee3d5e9ab73718c12c88bd388d7cd33de283e0d582c7ec5dbed106\n",
            "Data: Block66 Curr Hash: 82be552aee2a51fc9bc3227314844a9a89d0d4455846b8e84545c7ec013e2216 Prev hash: 721984ef2b862d17a1e9329e46f8eaa85a70de9e88c248872e5a259c6264dca3\n",
            "Data: Block65 Curr Hash: 5581c0c73982976806aa457f542e48ba18886aaa9c60a8eb9b192a2757e6db01 Prev hash: 82be552aee2a51fc9bc3227314844a9a89d0d4455846b8e84545c7ec013e2216\n",
            "Data: PBlock6 Curr Hash: d5fe465bb0fed6b682f14523c1f96790ff88a62805b51874afdf7264fcd258a2 Prev hash: 5581c0c73982976806aa457f542e48ba18886aaa9c60a8eb9b192a2757e6db01\n",
            "Data: Block1 Curr Hash: 40e9b17a3391b5f461b2b96a2e5810a885f088346b901c65ebb5cf8cf7361103 Prev hash: d5fe465bb0fed6b682f14523c1f96790ff88a62805b51874afdf7264fcd258a2\n",
            "Data: Block2 Curr Hash: 61edd5d6b03c20f764aab3bc4291b162ff48958e316603d4c07548a37872e380 Prev hash: 40e9b17a3391b5f461b2b96a2e5810a885f088346b901c65ebb5cf8cf7361103\n",
            "Data: Block3 Curr Hash: f76000270122d79ba262f8298080d37b8645d471d3885999274deba5caa7f704 Prev hash: 61edd5d6b03c20f764aab3bc4291b162ff48958e316603d4c07548a37872e380\n",
            "Data: Block5 Curr Hash: 543ef0b11f17bef0e05f7335930915b763e0c227e58455b6d2c9759698ef686a Prev hash: f76000270122d79ba262f8298080d37b8645d471d3885999274deba5caa7f704\n"
          ],
          "name": "stdout"
        }
      ]
    },
    {
      "cell_type": "code",
      "metadata": {
        "id": "pzWWQU5WuZRr",
        "colab_type": "code",
        "colab": {}
      },
      "source": [
        "bc.remove('PBlock8')\n",
        "bc.remove('PBlock7')\n",
        "bc.remove('PBlock6')"
      ],
      "execution_count": 0,
      "outputs": []
    },
    {
      "cell_type": "code",
      "metadata": {
        "id": "MUIPZJ9uuoEZ",
        "colab_type": "code",
        "outputId": "250c8b47-7cc6-452e-fd83-d75497d9d3ae",
        "colab": {
          "base_uri": "https://localhost:8080/",
          "height": 156
        }
      },
      "source": [
        "for b in bc.blocks:\n",
        "  print('Data: {}'.format(b.data), 'Curr Hash: {}'.format(b.hash), 'Prev hash: {}'.format(b.previous_hash))"
      ],
      "execution_count": 39,
      "outputs": [
        {
          "output_type": "stream",
          "text": [
            "Data: Block67 Curr Hash: 721984ef2b862d17a1e9329e46f8eaa85a70de9e88c248872e5a259c6264dca3 Prev hash: None\n",
            "Data: Block66 Curr Hash: 82be552aee2a51fc9bc3227314844a9a89d0d4455846b8e84545c7ec013e2216 Prev hash: 721984ef2b862d17a1e9329e46f8eaa85a70de9e88c248872e5a259c6264dca3\n",
            "Data: Block65 Curr Hash: 5581c0c73982976806aa457f542e48ba18886aaa9c60a8eb9b192a2757e6db01 Prev hash: 82be552aee2a51fc9bc3227314844a9a89d0d4455846b8e84545c7ec013e2216\n",
            "Data: Block1 Curr Hash: 40e9b17a3391b5f461b2b96a2e5810a885f088346b901c65ebb5cf8cf7361103 Prev hash: 5581c0c73982976806aa457f542e48ba18886aaa9c60a8eb9b192a2757e6db01\n",
            "Data: Block2 Curr Hash: 61edd5d6b03c20f764aab3bc4291b162ff48958e316603d4c07548a37872e380 Prev hash: 40e9b17a3391b5f461b2b96a2e5810a885f088346b901c65ebb5cf8cf7361103\n",
            "Data: Block3 Curr Hash: f76000270122d79ba262f8298080d37b8645d471d3885999274deba5caa7f704 Prev hash: 61edd5d6b03c20f764aab3bc4291b162ff48958e316603d4c07548a37872e380\n",
            "Data: Block5 Curr Hash: 543ef0b11f17bef0e05f7335930915b763e0c227e58455b6d2c9759698ef686a Prev hash: f76000270122d79ba262f8298080d37b8645d471d3885999274deba5caa7f704\n"
          ],
          "name": "stdout"
        }
      ]
    },
    {
      "cell_type": "code",
      "metadata": {
        "id": "woNFnfaDuqJW",
        "colab_type": "code",
        "outputId": "d70f6b81-0c21-47ef-bef6-221f663d38d4",
        "colab": {
          "base_uri": "https://localhost:8080/",
          "height": 34
        }
      },
      "source": [
        "ret_block = bc.pop()\n",
        "ret_block.data"
      ],
      "execution_count": 40,
      "outputs": [
        {
          "output_type": "execute_result",
          "data": {
            "text/plain": [
              "'Block5'"
            ]
          },
          "metadata": {
            "tags": []
          },
          "execution_count": 40
        }
      ]
    },
    {
      "cell_type": "code",
      "metadata": {
        "id": "PX0ldfJluvrV",
        "colab_type": "code",
        "outputId": "5abbf671-827f-4a3c-ed8a-288f00c06207",
        "colab": {
          "base_uri": "https://localhost:8080/",
          "height": 139
        }
      },
      "source": [
        "for b in bc.blocks:\n",
        "  print('Data: {}'.format(b.data), 'Curr Hash: {}'.format(b.hash), 'Prev hash: {}'.format(b.previous_hash))"
      ],
      "execution_count": 41,
      "outputs": [
        {
          "output_type": "stream",
          "text": [
            "Data: Block67 Curr Hash: 721984ef2b862d17a1e9329e46f8eaa85a70de9e88c248872e5a259c6264dca3 Prev hash: None\n",
            "Data: Block66 Curr Hash: 82be552aee2a51fc9bc3227314844a9a89d0d4455846b8e84545c7ec013e2216 Prev hash: 721984ef2b862d17a1e9329e46f8eaa85a70de9e88c248872e5a259c6264dca3\n",
            "Data: Block65 Curr Hash: 5581c0c73982976806aa457f542e48ba18886aaa9c60a8eb9b192a2757e6db01 Prev hash: 82be552aee2a51fc9bc3227314844a9a89d0d4455846b8e84545c7ec013e2216\n",
            "Data: Block1 Curr Hash: 40e9b17a3391b5f461b2b96a2e5810a885f088346b901c65ebb5cf8cf7361103 Prev hash: 5581c0c73982976806aa457f542e48ba18886aaa9c60a8eb9b192a2757e6db01\n",
            "Data: Block2 Curr Hash: 61edd5d6b03c20f764aab3bc4291b162ff48958e316603d4c07548a37872e380 Prev hash: 40e9b17a3391b5f461b2b96a2e5810a885f088346b901c65ebb5cf8cf7361103\n",
            "Data: Block3 Curr Hash: f76000270122d79ba262f8298080d37b8645d471d3885999274deba5caa7f704 Prev hash: 61edd5d6b03c20f764aab3bc4291b162ff48958e316603d4c07548a37872e380\n"
          ],
          "name": "stdout"
        }
      ]
    },
    {
      "cell_type": "code",
      "metadata": {
        "id": "-oGIKG0ki5jv",
        "colab_type": "code",
        "colab": {
          "base_uri": "https://localhost:8080/",
          "height": 34
        },
        "outputId": "cc32cee1-0636-45e9-94e5-ae9d876391b9"
      },
      "source": [
        "bc.append(None)"
      ],
      "execution_count": 42,
      "outputs": [
        {
          "output_type": "stream",
          "text": [
            "Invalid Data for Block Chain\n"
          ],
          "name": "stdout"
        }
      ]
    },
    {
      "cell_type": "code",
      "metadata": {
        "id": "BNYb55uYi7KU",
        "colab_type": "code",
        "colab": {}
      },
      "source": [
        ""
      ],
      "execution_count": 0,
      "outputs": []
    }
  ]
}