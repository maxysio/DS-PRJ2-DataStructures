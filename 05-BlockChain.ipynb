{
  "nbformat": 4,
  "nbformat_minor": 0,
  "metadata": {
    "colab": {
      "name": "Untitled0.ipynb",
      "provenance": [],
      "authorship_tag": "ABX9TyOadaDbc5YfOR9sOR3/mlXs",
      "include_colab_link": true
    },
    "kernelspec": {
      "name": "python3",
      "display_name": "Python 3"
    }
  },
  "cells": [
    {
      "cell_type": "markdown",
      "metadata": {
        "id": "view-in-github",
        "colab_type": "text"
      },
      "source": [
        "<a href=\"https://colab.research.google.com/github/maxysio/DS-PRJ2-DataStructures/blob/master/05-BlockChain.ipynb\" target=\"_parent\"><img src=\"https://colab.research.google.com/assets/colab-badge.svg\" alt=\"Open In Colab\"/></a>"
      ]
    },
    {
      "cell_type": "code",
      "metadata": {
        "id": "PdWLk9hqWXYm",
        "colab_type": "code",
        "colab": {}
      },
      "source": [
        "import hashlib\n",
        "from time import gmtime, strftime\n",
        "import time"
      ],
      "execution_count": 0,
      "outputs": []
    },
    {
      "cell_type": "code",
      "metadata": {
        "id": "VeLGz6kxjETy",
        "colab_type": "code",
        "colab": {}
      },
      "source": [
        "def calc_hashx(data):\n",
        "    sha = hashlib.sha256()\n",
        "    sha.update(data.encode('utf-8'))\n",
        "    return sha.hexdigest()"
      ],
      "execution_count": 0,
      "outputs": []
    },
    {
      "cell_type": "code",
      "metadata": {
        "id": "P1MM1HWsXk9L",
        "colab_type": "code",
        "colab": {}
      },
      "source": [
        "class Block:\n",
        "    def __init__(self, timestamp, data, previous_hash, current_hash):\n",
        "      self.timestamp = timestamp\n",
        "      self.data = data\n",
        "      self.previous_hash = previous_hash\n",
        "      self.hash = current_hash"
      ],
      "execution_count": 0,
      "outputs": []
    },
    {
      "cell_type": "code",
      "metadata": {
        "id": "fQvNJXoqX46e",
        "colab_type": "code",
        "colab": {}
      },
      "source": [
        "class BlockChain:\n",
        "  def __init__(self):\n",
        "    self.blocks = []\n",
        "    self.head = None\n",
        "    self.tail = None\n",
        "\n",
        "  def calc_hash(self, data):\n",
        "    sha = hashlib.sha256()\n",
        "    sha.update(data.encode('utf-8'))\n",
        "    return sha.hexdigest()\n",
        "\n",
        "  def prepend(self, data):\n",
        "    # Create a new block\n",
        "    data_hash = self.calc_hash(data)\n",
        "    new_block = Block(time.gmtime(), data, None, data_hash)\n",
        "    self.blocks.append(new_block)\n",
        "\n",
        "    if self.head is None:\n",
        "      # If no head, that would mean no tail, assign both to new block and return\n",
        "      self.head = new_block\n",
        "      self.tail = new_block\n",
        "      return\n",
        "    \n",
        "    # Assign the new blocks hash to the previous hash of the head and move head to the new block\n",
        "    self.head.previous_hash = new_block.hash\n",
        "    self.head = new_block\n",
        "\n",
        "  def append(self, data):\n",
        "    # Create a new block\n",
        "    data_hash = self.calc_hash(data)\n",
        "    new_block = Block(time.gmtime(), data, None, data_hash)\n",
        "    self.blocks.append(new_block)\n",
        "\n",
        "    if self.head is None:\n",
        "      # If no head, that would mean no tail, assign both to new block and return\n",
        "      self.head = new_block\n",
        "      self.tail = new_block\n",
        "      return\n",
        "\n",
        "    # Assign the hash from the tail to the new blocks previous hash, move the tail to the new block\n",
        "    new_block.previous_hash = self.tail.hash\n",
        "    self.tail = new_block\n",
        "\n",
        "\n",
        "  def search(self, data):\n",
        "    # Run through the list to find the block object\n",
        "    for b in self.blocks:\n",
        "      if b.data == data:\n",
        "        return b\n",
        "    print('{} not found in BlockChain'.format(data))\n",
        "    return None\n",
        "    \n",
        "  def remove(self, data):\n",
        "    # If the size is 0, then nothing to remove\n",
        "    if self.size() == 0:\n",
        "      return\n",
        "    \n",
        "    block = self.search(data)\n",
        "    if block:\n",
        "      # If data is found in the block chain,\n",
        "      # Check if the size of the block chain is 1, then its the only object\n",
        "      if self.size() == 1:\n",
        "        self.blocks = []\n",
        "        return\n",
        "\n",
        "      # Find the block before and after it and link them\n",
        "      \n",
        "      current_block_hash = self.calc_hash(block.data)\n",
        "      prev_block = None\n",
        "      next_block = None\n",
        "      \n",
        "      # For the block before, travel through the list, \n",
        "      # check block's previous hash against hash of the data in the block in the list\n",
        "      for b in self.blocks:\n",
        "        if block.previous_hash == self.calc_hash(b.data):\n",
        "          prev_block = b\n",
        "          break\n",
        "      \n",
        "      # For the block after, travel through the list,\n",
        "      # check hash of current block's data against the previous hash of the block in the list\n",
        "      for b in self.blocks:\n",
        "        if b.previous_hash == current_block_hash:\n",
        "          next_block = b\n",
        "          break\n",
        "      \n",
        "      if next_block and prev_block:\n",
        "        print('Here')\n",
        "        # Block to be deleted in the middle\n",
        "        next_block.previous_hash = self.calc_hash(prev_block.data)\n",
        "      elif next_block:\n",
        "        # Block to be deleted is in the begining\n",
        "        next_block.previous_hash = None\n",
        "\n",
        "      # If Block to be deleted is at the end, no action item\n",
        "\n",
        "      # Finally remove the block from the list\n",
        "      self.blocks.remove(block)\n",
        "\n",
        "  def pop(self):\n",
        "    # Remove the last item from the Block Chain\n",
        "    \n",
        "    # Check if the block chain is empty\n",
        "    if self.size()==0:\n",
        "      print('BlockChain is empty')\n",
        "      return\n",
        "\n",
        "    block = self.blocks[-1]\n",
        "\n",
        "    # Remove\n",
        "    self.remove(block.data)\n",
        "\n",
        "    return block\n",
        "\n",
        "  def insert(self, data, pos):\n",
        "    # if block chain is empty, just add it irrespective of position\n",
        "    if self.size() == 0:\n",
        "      self.append(data)\n",
        "      return\n",
        "\n",
        "    # if pos is 1, then its the begining, so prepend it\n",
        "    if pos == 1:\n",
        "      self.prepend(data)\n",
        "      return\n",
        "\n",
        "    # if position is greater than the size of the BlockChain, add it to the end\n",
        "    if pos > self.size():\n",
        "      self.append(data)\n",
        "      return\n",
        "\n",
        "    # now for fun?\n",
        "\n",
        "  def size(self):\n",
        "    return len(self.blocks)"
      ],
      "execution_count": 0,
      "outputs": []
    },
    {
      "cell_type": "code",
      "metadata": {
        "id": "--EOl7mSa4Os",
        "colab_type": "code",
        "colab": {}
      },
      "source": [
        "bc = BlockChain()\n",
        "bc.append('Block1')\n",
        "bc.append('Block2')\n",
        "bc.append('Block3')\n",
        "bc.append('Block4')"
      ],
      "execution_count": 0,
      "outputs": []
    },
    {
      "cell_type": "code",
      "metadata": {
        "id": "zvGT7HIfiyjh",
        "colab_type": "code",
        "colab": {
          "base_uri": "https://localhost:8080/",
          "height": 34
        },
        "outputId": "4a289add-1676-45e6-d259-b76bd393a0c5"
      },
      "source": [
        "bc.size()"
      ],
      "execution_count": 90,
      "outputs": [
        {
          "output_type": "execute_result",
          "data": {
            "text/plain": [
              "3"
            ]
          },
          "metadata": {
            "tags": []
          },
          "execution_count": 90
        }
      ]
    },
    {
      "cell_type": "code",
      "metadata": {
        "id": "smt-pd_TbRxs",
        "colab_type": "code",
        "colab": {
          "base_uri": "https://localhost:8080/",
          "height": 89
        },
        "outputId": "882bb3a0-2066-4d20-b8bb-91101d7fc765"
      },
      "source": [
        "for b in bc.blocks:\n",
        "  print(b.data, 'Current Block Hash: {}'.format(calc_hashx(b.data)), 'Prev Hash: {}'.format(b.previous_hash))"
      ],
      "execution_count": 91,
      "outputs": [
        {
          "output_type": "stream",
          "text": [
            "Block1 Current Block Hash: 40e9b17a3391b5f461b2b96a2e5810a885f088346b901c65ebb5cf8cf7361103 Prev Hash: None\n",
            "Block2 Current Block Hash: 61edd5d6b03c20f764aab3bc4291b162ff48958e316603d4c07548a37872e380 Prev Hash: 40e9b17a3391b5f461b2b96a2e5810a885f088346b901c65ebb5cf8cf7361103\n",
            "Block3 Current Block Hash: f76000270122d79ba262f8298080d37b8645d471d3885999274deba5caa7f704 Prev Hash: 61edd5d6b03c20f764aab3bc4291b162ff48958e316603d4c07548a37872e380\n"
          ],
          "name": "stdout"
        }
      ]
    },
    {
      "cell_type": "code",
      "metadata": {
        "id": "JiIAYSyThiPd",
        "colab_type": "code",
        "colab": {}
      },
      "source": [
        "ab = bc.pop()"
      ],
      "execution_count": 0,
      "outputs": []
    },
    {
      "cell_type": "code",
      "metadata": {
        "id": "Pxn7p_wFlTiv",
        "colab_type": "code",
        "colab": {
          "base_uri": "https://localhost:8080/",
          "height": 34
        },
        "outputId": "0edbfcff-a349-4f94-8a68-6fd20d9c3556"
      },
      "source": [
        "ab.data, ab.previous_hash"
      ],
      "execution_count": 92,
      "outputs": [
        {
          "output_type": "execute_result",
          "data": {
            "text/plain": [
              "('Block4', 'f76000270122d79ba262f8298080d37b8645d471d3885999274deba5caa7f704')"
            ]
          },
          "metadata": {
            "tags": []
          },
          "execution_count": 92
        }
      ]
    },
    {
      "cell_type": "code",
      "metadata": {
        "id": "w6yeHoOhhoV-",
        "colab_type": "code",
        "colab": {
          "base_uri": "https://localhost:8080/",
          "height": 34
        },
        "outputId": "c99c504f-4336-4a84-c176-772d0feb41e3"
      },
      "source": [
        "bc.blocks[0].previous_hash"
      ],
      "execution_count": 40,
      "outputs": [
        {
          "output_type": "execute_result",
          "data": {
            "text/plain": [
              "'61edd5d6b03c20f764aab3bc4291b162ff48958e316603d4c07548a37872e380'"
            ]
          },
          "metadata": {
            "tags": []
          },
          "execution_count": 40
        }
      ]
    },
    {
      "cell_type": "code",
      "metadata": {
        "id": "_05xMqa_iB5H",
        "colab_type": "code",
        "colab": {
          "base_uri": "https://localhost:8080/",
          "height": 34
        },
        "outputId": "2654a548-2a65-462d-cd1d-a6af81e002e8"
      },
      "source": [
        "'40e9b17a3391b5f461b2b96a2e5810a885f088346b901c65ebb5cf8cf7361103'== '40e9b17a3391b5f461b2b96a2e5810a885f088346b901c65ebb5cf8cf7361103'"
      ],
      "execution_count": 50,
      "outputs": [
        {
          "output_type": "execute_result",
          "data": {
            "text/plain": [
              "True"
            ]
          },
          "metadata": {
            "tags": []
          },
          "execution_count": 50
        }
      ]
    },
    {
      "cell_type": "code",
      "metadata": {
        "id": "LGjwgoAmji7v",
        "colab_type": "code",
        "colab": {}
      },
      "source": [
        ""
      ],
      "execution_count": 0,
      "outputs": []
    }
  ]
}