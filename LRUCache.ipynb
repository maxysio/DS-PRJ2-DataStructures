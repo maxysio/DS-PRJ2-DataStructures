{
  "nbformat": 4,
  "nbformat_minor": 0,
  "metadata": {
    "colab": {
      "name": "LRUCache.ipynb",
      "provenance": [],
      "include_colab_link": true
    },
    "kernelspec": {
      "name": "python3",
      "display_name": "Python 3"
    }
  },
  "cells": [
    {
      "cell_type": "markdown",
      "metadata": {
        "id": "view-in-github",
        "colab_type": "text"
      },
      "source": [
        "<a href=\"https://colab.research.google.com/github/maxysio/DS-PRJ2-LRUCache/blob/master/LRUCache.ipynb\" target=\"_parent\"><img src=\"https://colab.research.google.com/assets/colab-badge.svg\" alt=\"Open In Colab\"/></a>"
      ]
    },
    {
      "cell_type": "code",
      "metadata": {
        "id": "y9s5zwP0dZVV",
        "colab_type": "code",
        "colab": {}
      },
      "source": [
        "# Create the Node Class\n",
        "class Node:\n",
        "  def __init__(self, key, value):\n",
        "    self.key = key\n",
        "    self.value = value\n",
        "    self.prev = None\n",
        "    self.next = None"
      ],
      "execution_count": 0,
      "outputs": []
    },
    {
      "cell_type": "code",
      "metadata": {
        "id": "yf6HnWQldoKl",
        "colab_type": "code",
        "colab": {}
      },
      "source": [
        "# Create the Linked List class\n",
        "class LinkedList:\n",
        "  \n",
        "  def __init__(self):\n",
        "    self.head = None\n",
        "    self.tail = None\n",
        "  \n",
        "  def insert(self, node):\n",
        "    if self.head is None:\n",
        "      # if there is no head, new node will be the head\n",
        "      self.head = node\n",
        "      self.tail = node\n",
        "    else:\n",
        "      # otherwise, the new node will move to the tail as the most recently used\n",
        "      self.tail.next = node\n",
        "      node.prev = self.tail\n",
        "      self.tail = node\n",
        "\n",
        "  def delete(self, node):\n",
        "    if node is None:\n",
        "      # Nothing to delete\n",
        "      return\n",
        "    \n",
        "    if node.prev:\n",
        "      # if there is a preceding node, point it to the next node\n",
        "      node.prev.next = node.next\n",
        "    else:\n",
        "      # if this is the head node, point head to the next\n",
        "      self.head = node.next\n",
        "\n",
        "    if node.next:\n",
        "      # if there is a node after, point it to the previous node\n",
        "      node.next.prev = node.prev\n",
        "    else:\n",
        "      # if this is the last node, point tail to the previous\n",
        "      self.tail = node.prev\n",
        "\n"
      ],
      "execution_count": 0,
      "outputs": []
    },
    {
      "cell_type": "code",
      "metadata": {
        "id": "C5BUmNpTskZv",
        "colab_type": "code",
        "colab": {}
      },
      "source": [
        "class LRU_Cache:\n",
        "\n",
        "    def __init__(self, capacity=5):\n",
        "        self.elements = LinkedList()\n",
        "        self.dict_obj = {}\n",
        "        self.max_elements = capacity\n",
        "        self.num_elements = 0\n",
        "\n",
        "    def get(self, key):\n",
        "      \"\"\"\n",
        "      Get the value for a given Key\n",
        "      \"\"\"\n",
        "      try:\n",
        "        node = self.dict_obj[key]\n",
        "        value = node.value\n",
        "\n",
        "        #Move node to end of LinkedList\n",
        "        self.elements.delete(node)\n",
        "        self.elements.insert(node)\n",
        "        \n",
        "        return value \n",
        "      except KeyError:\n",
        "        return -1\n",
        "        \n",
        "    def set(self, key, value):\n",
        "      \"\"\"\n",
        "      Set/Add a Key-Value pair\n",
        "      \"\"\"\n",
        "      new_node = None\n",
        "      try:\n",
        "        # if node exists in dictionary, then move the node to the end of the LinkedList\n",
        "        # remove it first from the list, no change in dictionary\n",
        "        new_node = self.dict_obj[key]\n",
        "        self.elements.delete(new_node)\n",
        "      except KeyError:\n",
        "        new_node = Node(key, value)\n",
        "        # If node does not exist in dictionary, then check if max count is reached\n",
        "        if self.num_elements == self.max_elements:\n",
        "          # remove LRU element from the head of LinkedList and dictionary\n",
        "          del self.dict_obj[self.elements.head.key]\n",
        "          self.elements.delete(self.elements.head)\n",
        "\n",
        "      # add new node to the end of the Linked List\n",
        "      self.elements.insert(new_node)\n",
        "      self.dict_obj[new_node.key] = new_node\n",
        "      self.num_elements += 1  "
      ],
      "execution_count": 0,
      "outputs": []
    },
    {
      "cell_type": "code",
      "metadata": {
        "id": "08CW4midtKKZ",
        "colab_type": "code",
        "colab": {
          "base_uri": "https://localhost:8080/",
          "height": 85
        },
        "outputId": "3eb73686-19bd-4ff8-cd13-272312516344"
      },
      "source": [
        "our_cache = LRU_Cache(5)\n",
        "\n",
        "our_cache.set(1, 1);\n",
        "our_cache.set(2, 2);\n",
        "our_cache.set(3, 3);\n",
        "our_cache.set(4, 4);\n",
        "\n",
        "\n",
        "print(our_cache.get(1))       # returns 1\n",
        "print(our_cache.get(2))       # returns 2\n",
        "print(our_cache.get(9))      # returns -1 because 9 is not present in the cache\n",
        "\n",
        "our_cache.set(5, 5)\n",
        "our_cache.set(6, 6)\n",
        "\n",
        "print(our_cache.get(3))      # returns -1 because the cache reached it's capacity and 3 was the least recently used entry"
      ],
      "execution_count": 61,
      "outputs": [
        {
          "output_type": "stream",
          "text": [
            "1\n",
            "2\n",
            "-1\n",
            "-1\n"
          ],
          "name": "stdout"
        }
      ]
    },
    {
      "cell_type": "code",
      "metadata": {
        "id": "SZA9_uyfmhA3",
        "colab_type": "code",
        "colab": {}
      },
      "source": [
        ""
      ],
      "execution_count": 0,
      "outputs": []
    }
  ]
}