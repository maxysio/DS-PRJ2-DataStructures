{
  "nbformat": 4,
  "nbformat_minor": 0,
  "metadata": {
    "colab": {
      "name": "LRUCache.ipynb",
      "provenance": []
    },
    "kernelspec": {
      "name": "python3",
      "display_name": "Python 3"
    }
  },
  "cells": [
    {
      "cell_type": "code",
      "metadata": {
        "id": "C5BUmNpTskZv",
        "colab_type": "code",
        "colab": {}
      },
      "source": [
        "class LRU_Cache(object):\n",
        "\n",
        "    def __init__(self, capacity=5):\n",
        "        # Initialize class variables\n",
        "        pass\n",
        "\n",
        "    def get(self, key):\n",
        "        # Retrieve item from provided key. Return -1 if nonexistent. \n",
        "        pass\n",
        "\n",
        "    def set(self, key, value):\n",
        "        # Set the value if the key is not present in the cache. If the cache is at capacity remove the oldest item. \n",
        "        pass\n",
        "\n"
      ],
      "execution_count": 0,
      "outputs": []
    },
    {
      "cell_type": "code",
      "metadata": {
        "id": "08CW4midtKKZ",
        "colab_type": "code",
        "colab": {}
      },
      "source": [
        "our_cache = LRU_Cache(5)\n",
        "\n",
        "our_cache.set(1, 1);\n",
        "our_cache.set(2, 2);\n",
        "our_cache.set(3, 3);\n",
        "our_cache.set(4, 4);\n",
        "\n",
        "\n",
        "our_cache.get(1)       # returns 1\n",
        "our_cache.get(2)       # returns 2\n",
        "our_cache.get(9)      # returns -1 because 9 is not present in the cache\n",
        "\n",
        "our_cache.set(5, 5) \n",
        "our_cache.set(6, 6)\n",
        "\n",
        "our_cache.get(3)      # returns -1 because the cache reached it's capacity and 3 was the least recently used entry"
      ],
      "execution_count": 0,
      "outputs": []
    }
  ]
}